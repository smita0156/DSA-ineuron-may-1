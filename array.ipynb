{
 "cells": [
  {
   "cell_type": "code",
   "execution_count": 1,
   "id": "cd62c352-2e37-4f00-983b-49fd924a4a7f",
   "metadata": {},
   "outputs": [],
   "source": [
    "# Q1 Given an array of integers nums and an integer target, return indices of the two numbers such that they add up to target.\n"
   ]
  },
  {
   "cell_type": "code",
   "execution_count": 14,
   "id": "e625a3c8-0836-4d2d-80ea-53c70b1d0cdd",
   "metadata": {},
   "outputs": [],
   "source": [
    "target = 9"
   ]
  },
  {
   "cell_type": "code",
   "execution_count": null,
   "id": "3f47ffaa-c8fc-4267-ace7-70fb55ae8c5a",
   "metadata": {},
   "outputs": [],
   "source": [
    "nums = [2,7,11,15]"
   ]
  },
  {
   "cell_type": "code",
   "execution_count": 5,
   "id": "25602633-c802-429d-8c3d-2fffefb09481",
   "metadata": {},
   "outputs": [],
   "source": [
    "class Solution:\n",
    "    def twoSum(self, nums: List[int], target: int) -> List[int]:\n",
    "        \n",
    "        d = {}\n",
    "        for i, j in enumerate(nums):\n",
    "            r = target - j\n",
    "            if r in d: return [d[r], i]\n",
    "            d[j] = i"
   ]
  },
  {
   "cell_type": "code",
   "execution_count": 8,
   "id": "cb4521f0-1b10-4077-88d4-23e76badffc2",
   "metadata": {},
   "outputs": [],
   "source": [
    "# 2. Given an integer array nums and an integer val, remove all occurrences of val in nums in-place."
   ]
  },
  {
   "cell_type": "code",
   "execution_count": 12,
   "id": "0b4f3ef3-bab5-4594-adee-b60148a326d0",
   "metadata": {},
   "outputs": [],
   "source": [
    "val = 3"
   ]
  },
  {
   "cell_type": "code",
   "execution_count": null,
   "id": "916d1949-f3ca-43a9-a877-0d4e2449d01a",
   "metadata": {},
   "outputs": [],
   "source": [
    "nums = [3,2,2,3]"
   ]
  },
  {
   "cell_type": "code",
   "execution_count": null,
   "id": "7e9e754f-2e45-4eb3-aa6b-0ad93bcc2aff",
   "metadata": {},
   "outputs": [],
   "source": [
    "class Solution(object):\n",
    "    def removeElement(self, nums, val):\n",
    "        \"\"\"\n",
    "        :type nums: List[int]\n",
    "        :type val: int\n",
    "        :rtype: int\n",
    "        \"\"\"\n",
    "        count = 0\n",
    "        for i in range(len(nums)):\n",
    "            if nums[i] == val:\n",
    "                continue\n",
    "            nums[count] = nums[i]\n",
    "            count += 1\n",
    "        \n",
    "        return count"
   ]
  },
  {
   "cell_type": "code",
   "execution_count": null,
   "id": "e2d965ba-7156-47ca-a329-989f37e68ae6",
   "metadata": {},
   "outputs": [],
   "source": [
    "# here the array once, hence the time complexity will be O(n) and the the space complexity will be O(1) as there is no arrey."
   ]
  },
  {
   "cell_type": "code",
   "execution_count": null,
   "id": "c863a241-4ea4-4b47-8014-e5d0dc3ce129",
   "metadata": {},
   "outputs": [],
   "source": [
    "3.Given a sorted array of distinct integers and a target value, "
   ]
  },
  {
   "cell_type": "code",
   "execution_count": null,
   "id": "aa3a774f-80c1-4b41-982f-b07936975fea",
   "metadata": {},
   "outputs": [],
   "source": [
    "nums = [1,3,5,6], target = 2\n",
    "Output: 1"
   ]
  },
  {
   "cell_type": "code",
   "execution_count": 13,
   "id": "286c049c-452c-467b-ad53-0b2564b28662",
   "metadata": {},
   "outputs": [],
   "source": [
    "class Solution(object):\n",
    "    def searchInsert(self, nums, target):\n",
    "        \"\"\"\n",
    "        :type nums: List[int]\n",
    "        :type target: int\n",
    "        :rtype: int\n",
    "        \"\"\"\n",
    "        # Last and First indexes\n",
    "        start = 0\n",
    "        end = len(nums) - 1\n",
    "        \n",
    "        # Traverse an array\n",
    "        while (start <= end):\n",
    "            \n",
    "            mid = (start + end)/2\n",
    "             \n",
    "            # if target value found.\n",
    "            if nums[mid] == target:\n",
    "                return mid\n",
    "            \n",
    "            # If target value is greater then mid elements's value\n",
    "            elif target > nums[mid]:\n",
    "                start = mid + 1  # otherwise target value is less, \n",
    "            else:\n",
    "                end = mid -1\n",
    "        # Return the insertion position\n",
    "        return end + 1\n",
    "                \n",
    "        \n",
    "                "
   ]
  },
  {
   "cell_type": "code",
   "execution_count": null,
   "id": "d5cd5f90-fe6e-4edc-81f5-4147dfec387d",
   "metadata": {},
   "outputs": [],
   "source": [
    "# 4. You are given a large integer represented as an integer array digits,"
   ]
  },
  {
   "cell_type": "code",
   "execution_count": null,
   "id": "483d634b-8c96-4e29-a02b-0a7b75475021",
   "metadata": {},
   "outputs": [],
   "source": [
    "digits = [1,2,3]"
   ]
  },
  {
   "cell_type": "code",
   "execution_count": null,
   "id": "6b14e0df-0a05-4082-94fc-e227879a049c",
   "metadata": {},
   "outputs": [],
   "source": [
    "# The array represents the integer 123. Incrementing by one gives 123 + 1 = 124.so the result should be [1,2,4]."
   ]
  },
  {
   "cell_type": "code",
   "execution_count": null,
   "id": "d95cabd7-c541-40b5-97fd-9efdfdf45e48",
   "metadata": {},
   "outputs": [],
   "source": [
    "class Solution(object):\n",
    "    def plusOne(self, digits):\n",
    "        \"\"\"\n",
    "        :type digits: List[int]\n",
    "        :rtype: List[int]\n",
    "        \"\"\"\n",
    "        digit_length = len(digits)\n",
    "        \n",
    "        i = digit_length - 1\n",
    "        \n",
    "        while digits[i] == 9 and i >= 0:\n",
    "            i -= 1\n",
    "        \n",
    "        if i == -1:\n",
    "            results = [0]*(digit_length + 1)\n",
    "            results[0] = 1\n",
    "            return results\n",
    "        \n",
    "        results = [0]*(digit_length)\n",
    "        \n",
    "        results[i] = digits[i] + 1\n",
    "        \n",
    "        for j in range(i-1, -1, -1):\n",
    "            results[j] = digits[j]"
   ]
  },
  {
   "cell_type": "code",
   "execution_count": null,
   "id": "4104a035-21e2-40f0-8d0c-65a6dd9808e7",
   "metadata": {},
   "outputs": [],
   "source": [
    "# whole array (from right to left) until we find space, so time complexity will be O(n) and an extra array with +1 more space, the space complexity will be O(n+1)."
   ]
  },
  {
   "cell_type": "code",
   "execution_count": null,
   "id": "a397d2f5-f254-4cc3-b463-606c379e7091",
   "metadata": {},
   "outputs": [],
   "source": [
    "#5. You are given two integer arrays nums1 and nums2, sorted in non-decreasing order, and t"
   ]
  },
  {
   "cell_type": "code",
   "execution_count": null,
   "id": "8e4c490e-05d7-47b8-be28-447ca183ab64",
   "metadata": {},
   "outputs": [],
   "source": [
    "nums1 = [1, 2, 3, 0, 0, 0], m = 3, nums2 = [2, 5, 6], n = 3"
   ]
  },
  {
   "cell_type": "code",
   "execution_count": null,
   "id": "7aa22968-72e9-4293-8239-9bc63302b754",
   "metadata": {},
   "outputs": [],
   "source": [
    "class Solution:\n",
    "    def merge(self, nums1: List[int], m: int, nums2: List[int], n: int) -> None:\n",
    "        for i in range(m,m+n):\n",
    "            nums1[i]=nums2[i-m]\n",
    "        nums1.sort()"
   ]
  },
  {
   "cell_type": "code",
   "execution_count": null,
   "id": "534afb7d-fcd9-4a55-b230-4242a412212c",
   "metadata": {},
   "outputs": [],
   "source": [
    "#6. Given an integer array nums, return true if any value appears at least twice in the array"
   ]
  },
  {
   "cell_type": "code",
   "execution_count": null,
   "id": "28ebabfb-ae84-41fe-b32e-22412964291e",
   "metadata": {},
   "outputs": [],
   "source": [
    "class Solution(object):\n",
    "    def containsDuplicate(self, nums):\n",
    "        hset = set()\n",
    "        for idx in nums:\n",
    "            if idx in hset:\n",
    "                return True\n",
    "            else:\n",
    "                hset.add(idx)"
   ]
  },
  {
   "cell_type": "code",
   "execution_count": null,
   "id": "27207930-a8b1-4736-8dd4-c08a58f29510",
   "metadata": {},
   "outputs": [],
   "source": [
    "# 7. Given an integer array nums, move all 0's to the end of it while maintaining the relative order of the nonzero elements."
   ]
  },
  {
   "cell_type": "code",
   "execution_count": null,
   "id": "994a6c07-ca48-4b08-81c6-acbff038fbdf",
   "metadata": {},
   "outputs": [],
   "source": [
    "class Solution:\n",
    "    def moveZeroes(self, nums: list) -> None:\n",
    "        slow = 0\n",
    "        for fast in range(len(nums)):\n",
    "            if nums[fast] != 0 and nums[slow] == 0:\n",
    "                nums[slow], nums[fast] = nums[fast], nums[slow]\n",
    "\n",
    "            # wait while we find a non-zero element to\n",
    "            # swap with you\n",
    "            if nums[slow] != 0:\n",
    "                slow += 1"
   ]
  },
  {
   "cell_type": "code",
   "execution_count": null,
   "id": "dfe92fc2-2d4f-41cb-8374-5383410edee7",
   "metadata": {},
   "outputs": [],
   "source": [
    "#  Time complexity: O(n) and does not visit the same spot twice and Space complexity: O(1) so operations are made in-place"
   ]
  },
  {
   "cell_type": "code",
   "execution_count": null,
   "id": "625ffec2-db9e-4806-bf0f-ea0f1eea1334",
   "metadata": {},
   "outputs": [],
   "source": [
    "# 8 You have a set of integers s, which originally contains all the numbers from 1 to n. Unfortunately, due to some error, "
   ]
  },
  {
   "cell_type": "code",
   "execution_count": null,
   "id": "038250d9-5abc-47aa-a028-af22cab8275e",
   "metadata": {},
   "outputs": [],
   "source": [
    " class Solution:\n",
    "    def findErrorNums(self, nums: List[int]) -> List[int]:\n",
    "        c=Counter(nums)\n",
    "        l=[0,0]\n",
    "        for i in range(1,len(nums)+1):\n",
    "            if c[i]==2:\n",
    "                l[0]=i\n",
    "            if c[i]==0:\n",
    "                l[1]=i\n",
    "        return l"
   ]
  },
  {
   "cell_type": "code",
   "execution_count": null,
   "id": "cbaabc72-496d-4025-ae49-7a67bb967f99",
   "metadata": {},
   "outputs": [],
   "source": [
    "# Time complexity:O(n) and  space coplexity"
   ]
  },
  {
   "cell_type": "code",
   "execution_count": null,
   "id": "e2111e96-0bed-465f-8195-3bf6312290ed",
   "metadata": {},
   "outputs": [],
   "source": []
  }
 ],
 "metadata": {
  "kernelspec": {
   "display_name": "Python 3 (ipykernel)",
   "language": "python",
   "name": "python3"
  },
  "language_info": {
   "codemirror_mode": {
    "name": "ipython",
    "version": 3
   },
   "file_extension": ".py",
   "mimetype": "text/x-python",
   "name": "python",
   "nbconvert_exporter": "python",
   "pygments_lexer": "ipython3",
   "version": "3.10.6"
  }
 },
 "nbformat": 4,
 "nbformat_minor": 5
}
